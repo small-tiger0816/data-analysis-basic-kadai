{
  "cells": [
    {
      "cell_type": "code",
      "execution_count": 2,
      "metadata": {},
      "outputs": [
        {
          "name": "stdout",
          "output_type": "stream",
          "text": [
            "(178, 13) (124, 13) (54, 13) (178,) (124,) (54,)\n"
          ]
        },
        {
          "data": {
            "text/plain": [
              "0.9629629629629629"
            ]
          },
          "execution_count": 2,
          "metadata": {},
          "output_type": "execute_result"
        }
      ],
      "source": [
        "#1サンプルデータの取得\n",
        "from sklearn.datasets import load_wine\n",
        "\n",
        "\n",
        "dataset = load_wine()\n",
        "#dataset\n",
        "\n",
        "dataset.data\n",
        "\n",
        "dataset.feature_names\n",
        "\n",
        "import pandas as pd\n",
        "df = pd.DataFrame(data=dataset.data, columns=dataset.feature_names)\n",
        "df.head()\n",
        "\n",
        "dataset.target\n",
        "\n",
        "\n",
        "df['category'] = dataset.target\n",
        "df.head()\n",
        "\n",
        "df.shape\n",
        "\n",
        "#2サンプルデータの分割(学習データとテストデータに分割)\n",
        "X = dataset.data\n",
        "y = dataset.target\n",
        "\n",
        "from sklearn.model_selection import train_test_split\n",
        "train_test_split(X, y, test_size=0.3, random_state=5)\n",
        "# 以下のようにrandom_stateを指定しない場合、実行毎に結果が異なります。\n",
        "# train_test_split(X, y, test_size=0.3)\n",
        "\n",
        "X_train, X_test, y_train, y_test = train_test_split(X, y, test_size=0.3, random_state=5)\n",
        "print(X.shape, X_train.shape, X_test.shape, y.shape, y_train.shape, y_test.shape)\n",
        "\n",
        "\n",
        "#3予測モデルのインスタンス化\n",
        "from sklearn.ensemble import RandomForestClassifier\n",
        "model = RandomForestClassifier(random_state=3)\n",
        "\n",
        "\n",
        "\n",
        "#4予測モデルの学習\n",
        "model.fit(X_train, y_train)\n",
        "\n",
        "#5予測モデルの評価\n",
        "y_pred = model.predict(X_test) #ワインの成分のテストデータからワインの種別を予測\n",
        "y_pred\n",
        "\n",
        "y_test #ワインの種別のテストデータ\n",
        "\n",
        "#y_predとy_testを比較する\n",
        "\n",
        "from sklearn.metrics import accuracy_score\n",
        "accuracy_score(y_test, y_pred)\n",
        "#～結果～\n",
        "#決定木の正答率：92.6%\n",
        "#ランダムフォレストの正答率：96.3%"
      ]
    }
  ],
  "metadata": {
    "colab": {
      "name": "Colaboratory へようこそ",
      "provenance": [],
      "toc_visible": true
    },
    "kernelspec": {
      "display_name": "Python 3",
      "name": "python3"
    },
    "language_info": {
      "codemirror_mode": {
        "name": "ipython",
        "version": 3
      },
      "file_extension": ".py",
      "mimetype": "text/x-python",
      "name": "python",
      "nbconvert_exporter": "python",
      "pygments_lexer": "ipython3",
      "version": "3.11.4"
    }
  },
  "nbformat": 4,
  "nbformat_minor": 0
}
