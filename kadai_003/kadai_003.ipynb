{
  "cells": [
    {
      "cell_type": "code",
      "execution_count": 6,
      "metadata": {},
      "outputs": [
        {
          "name": "stdout",
          "output_type": "stream",
          "text": [
            "[[ 4  5  6  7]\n",
            " [12 17 22 27]\n",
            " [20 29 38 47]]\n",
            "47\n"
          ]
        }
      ],
      "source": [
        "import numpy as np\n",
        "\n",
        "multi_array_A = np.array([[0,1],[2,3],[4,5]])\n",
        "#print(multi_array_A)\n",
        "\n",
        "multi_array_B = np.array([[0,1,2,3],[4,5,6,7]])\n",
        "#print(multi_array_B)\n",
        "\n",
        "multi_array_C = np.dot(multi_array_A,multi_array_B) #積の計算\n",
        "print(multi_array_C)\n",
        "print(multi_array_C.max()) #要素の最大値"
      ]
    }
  ],
  "metadata": {
    "colab": {
      "name": "Colaboratory へようこそ",
      "provenance": [],
      "toc_visible": true
    },
    "kernelspec": {
      "display_name": "Python 3",
      "name": "python3"
    },
    "language_info": {
      "codemirror_mode": {
        "name": "ipython",
        "version": 3
      },
      "file_extension": ".py",
      "mimetype": "text/x-python",
      "name": "python",
      "nbconvert_exporter": "python",
      "pygments_lexer": "ipython3",
      "version": "3.8.10"
    }
  },
  "nbformat": 4,
  "nbformat_minor": 0
}
